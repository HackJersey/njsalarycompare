{
 "metadata": {
  "name": "",
  "signature": "sha256:be6c27dc21eb367f02a27422200c91062be2a78e361f4f5ecf3ed22194d233d4"
 },
 "nbformat": 3,
 "nbformat_minor": 0,
 "worksheets": [
  {
   "cells": [
    {
     "cell_type": "code",
     "collapsed": false,
     "input": [
      "import json\n",
      "import pandas as pd"
     ],
     "language": "python",
     "metadata": {},
     "outputs": [],
     "prompt_number": 164
    },
    {
     "cell_type": "code",
     "collapsed": false,
     "input": [
      "active_pensions = \"active_pensions.csv\""
     ],
     "language": "python",
     "metadata": {},
     "outputs": [],
     "prompt_number": 51
    },
    {
     "cell_type": "code",
     "collapsed": false,
     "input": [
      "apframe = pd.read_csv(active_pensions)"
     ],
     "language": "python",
     "metadata": {},
     "outputs": [],
     "prompt_number": 52
    },
    {
     "cell_type": "code",
     "collapsed": false,
     "input": [
      "apframe.MEMBER_MI=apframe.MEMBER_MI.fillna(value='none')\n",
      "apframe.MEMBER_LAST_NAME = apframe.MEMBER_LAST_NAME.fillna(value='none')\n",
      "apframe.MEMBER_FIRST_NAME = apframe.MEMBER_FIRST_NAME.fillna(value='none')\n",
      "apframe.ALL_EMPLOYERS_SALARY_AMT=apframe.ALL_EMPLOYERS_SALARY_AMT.apply(lambda x: float(x[1:]))"
     ],
     "language": "python",
     "metadata": {},
     "outputs": [],
     "prompt_number": 80
    },
    {
     "cell_type": "code",
     "collapsed": false,
     "input": [
      "deduped = apframe.drop_duplicates(['MEMBER_LAST_NAME', 'MEMBER_FIRST_NAME', 'MEMBER_MI', 'BIRTH_YEAR'])"
     ],
     "language": "python",
     "metadata": {},
     "outputs": [],
     "prompt_number": 81
    },
    {
     "cell_type": "code",
     "collapsed": false,
     "input": [
      "statewide = 'deduped[deduped.LOCATION_NAME==STATEWIDE']"
     ],
     "language": "python",
     "metadata": {},
     "outputs": [],
     "prompt_number": 82
    },
    {
     "cell_type": "code",
     "collapsed": false,
     "input": [
      "state_median = statewide.ALL_EMPLOYERS_SALARY_AMT.median()"
     ],
     "language": "python",
     "metadata": {},
     "outputs": [],
     "prompt_number": 83
    },
    {
     "cell_type": "code",
     "collapsed": false,
     "input": [
      "rest = apframe[apframe.LOCATION_NAME!=\"STATEWIDE\"]"
     ],
     "language": "python",
     "metadata": {},
     "outputs": [],
     "prompt_number": 87
    },
    {
     "cell_type": "code",
     "collapsed": false,
     "input": [
      "counties = rest.LOCATION_NAME.unique()\n",
      "data_list = {}"
     ],
     "language": "python",
     "metadata": {},
     "outputs": [],
     "prompt_number": 159
    },
    {
     "cell_type": "code",
     "collapsed": false,
     "input": [
      "county_meds = \"county_median_sals.csv\"\n",
      "overall_medians = pd.read_csv(county_meds, dtype={'FIPS':'str'})"
     ],
     "language": "python",
     "metadata": {},
     "outputs": [],
     "prompt_number": 160
    },
    {
     "cell_type": "code",
     "collapsed": false,
     "input": [
      "combined=pd.merge(rest, overall_medians, left_on=\"LOCATION_NAME\", right_on=\"County Name\", how=\"left\")"
     ],
     "language": "python",
     "metadata": {},
     "outputs": [],
     "prompt_number": 161
    },
    {
     "cell_type": "code",
     "collapsed": false,
     "input": [
      "for county in counties:\n",
      "    if county=='REGIONAL':\n",
      "        pass\n",
      "    else:\n",
      "        FIPS = combined.FIPS[combined.LOCATION_NAME==county].unique()[0]\n",
      "        county_dict={}\n",
      "        this_county = combined[combined.LOCATION_NAME==county]\n",
      "        teachers = this_county[this_county.PENSION_FUND_ID==1]\n",
      "        public = this_county[this_county.PENSION_FUND_ID==2]\n",
      "        copsfire = this_county[this_county.PENSION_FUND_ID==3]\n",
      "        teach_med = teachers.ALL_EMPLOYERS_SALARY_AMT.median()\n",
      "        public_med = public.ALL_EMPLOYERS_SALARY_AMT.median()\n",
      "        cops_med = copsfire[copsfire.PENSION_GROUP_ID==1].ALL_EMPLOYERS_SALARY_AMT.median()\n",
      "        fire_med = copsfire[copsfire.PENSION_GROUP_ID==2].ALL_EMPLOYERS_SALARY_AMT.median()\n",
      "        overall=this_county.A_MEDIAN.unique()\n",
      "        county_dict['OVERALL']=overall[0]\n",
      "        county_dict['COUNTY']=county\n",
      "        county_dict['STATEWIDE']=state_median\n",
      "        county_dict['PUBLIC_EMPLOYEES']=public_med\n",
      "        county_dict['TEACHERS']=teach_med\n",
      "        county_dict['POLICE']=cops_med\n",
      "        county_dict['FIRE']=fire_med\n",
      "        data_list[FIPS]=county_dict\n"
     ],
     "language": "python",
     "metadata": {},
     "outputs": [],
     "prompt_number": 162
    },
    {
     "cell_type": "code",
     "collapsed": false,
     "input": [
      "my_json=\"data.json\"\n",
      "\n",
      "with open(my_json, \"wb\") as j:\n",
      "    json.dump(data_list, j)"
     ],
     "language": "python",
     "metadata": {},
     "outputs": [],
     "prompt_number": 169
    },
    {
     "cell_type": "code",
     "collapsed": false,
     "input": [],
     "language": "python",
     "metadata": {},
     "outputs": []
    }
   ],
   "metadata": {}
  }
 ]
}